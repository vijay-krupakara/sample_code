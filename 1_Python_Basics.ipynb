{
  "nbformat": 4,
  "nbformat_minor": 0,
  "metadata": {
    "kernelspec": {
      "display_name": "Python 3",
      "language": "python",
      "name": "python3"
    },
    "language_info": {
      "codemirror_mode": {
        "name": "ipython",
        "version": 3
      },
      "file_extension": ".py",
      "mimetype": "text/x-python",
      "name": "python",
      "nbconvert_exporter": "python",
      "pygments_lexer": "ipython3",
      "version": "3.7.4"
    },
    "toc": {
      "base_numbering": 1,
      "nav_menu": {},
      "number_sections": true,
      "sideBar": true,
      "skip_h1_title": false,
      "title_cell": "Table of Contents",
      "title_sidebar": "Contents",
      "toc_cell": false,
      "toc_position": {},
      "toc_section_display": true,
      "toc_window_display": false
    },
    "colab": {
      "name": "1_Python_Basics.ipynb",
      "provenance": [],
      "include_colab_link": true
    }
  },
  "cells": [
    {
      "cell_type": "markdown",
      "metadata": {
        "id": "view-in-github",
        "colab_type": "text"
      },
      "source": [
        "<a href=\"https://colab.research.google.com/github/vijay-krupakara/sample_code/blob/master/1_Python_Basics.ipynb\" target=\"_parent\"><img src=\"https://colab.research.google.com/assets/colab-badge.svg\" alt=\"Open In Colab\"/></a>"
      ]
    },
    {
      "cell_type": "markdown",
      "metadata": {
        "id": "co8Gz9OmvUuf",
        "colab_type": "text"
      },
      "source": [
        "Python\n",
        "--\n",
        "Python is a general-purpose interpreted, interactive, object-oriented, and high-level programming language. It was created by Guido van Rossum during 1985- 1990. \n",
        "\n",
        "Language is not named after a snake,\n",
        "but after a comedy show \"Flying Circus\" which Monty Python was a fan of.\n",
        "\n",
        "Why to Learn Python?\n",
        "Python is a high-level, interpreted, interactive and object-oriented scripting language. Python is designed to be highly readable. It uses English keywords frequently where as other languages use punctuation, and it has fewer syntactical constructions than other languages.\n",
        "\n",
        "Following are important characteristics of Python Programming −\n",
        "\n",
        "It supports functional and structured programming methods as well as OOP.\n",
        "\n",
        "It can be used as a scripting language or can be compiled to byte-code for building large applications.\n",
        "\n",
        "It provides very high-level dynamic data types and supports dynamic type checking.\n",
        "\n",
        "It supports automatic garbage collection.\n",
        "\n",
        "It can be easily integrated with C, C++, COM, ActiveX, CORBA, and Java."
      ]
    },
    {
      "cell_type": "markdown",
      "metadata": {
        "id": "W8cMCrNYvUui",
        "colab_type": "text"
      },
      "source": [
        "__Guido van Rossum started coding for Python in Dec 1989.\n",
        "\n",
        "Latest Release is Version 3.8\n",
        "\n",
        "__Features:\n",
        "Simple\n",
        "Powerful\n",
        "General Purpose\n",
        "It is very readable\n",
        "\n",
        "Python is a High level Language\n",
        "\n",
        "__Python is an Interpreter.__"
      ]
    },
    {
      "cell_type": "markdown",
      "metadata": {
        "id": "AZjdtFBpvUuj",
        "colab_type": "text"
      },
      "source": [
        "__Two Modes:__\n",
        "1. Interactive Mode Mode\n",
        "2. Script Mode\n",
        "\n",
        "default file extensions: \".py\"\n",
        "\n",
        "To execute a python file, say \"abc.py\", type\"\n",
        "python abc.py"
      ]
    },
    {
      "cell_type": "markdown",
      "metadata": {
        "id": "-E07SjwfvUuk",
        "colab_type": "text"
      },
      "source": [
        "Applications of Python\n",
        "--\n",
        "Easy-to-learn − Python has few keywords, simple structure, and a clearly defined syntax. This allows the student to pick up the language quickly.\n",
        "\n",
        "Easy-to-read − Python code is more clearly defined and visible to the eyes.\n",
        "\n",
        "Easy-to-maintain − Python's source code is fairly easy-to-maintain.\n",
        "\n",
        "A broad standard library − Python's bulk of the library is very portable and cross-platform compatible on UNIX, Windows, and Macintosh.\n",
        "\n",
        "Interactive Mode − Python has support for an interactive mode which allows interactive testing and debugging of snippets of code.\n",
        "\n",
        "Portable − Python can run on a wide variety of hardware platforms and has the same interface on all platforms.\n",
        "\n",
        "Extendable − You can add low-level modules to the Python interpreter. These modules enable programmers to add to or customize their tools to be more efficient.\n",
        "\n",
        "Databases − Python provides interfaces to all major commercial databases.\n",
        "\n",
        "GUI Programming − Python supports GUI applications that can be created and ported to many system calls, libraries and windows systems, such as Windows MFC, Macintosh, and the X Window system of Unix.\n",
        "\n",
        "Scalable − Python provides a better structure and support for large programs than shell scripting."
      ]
    },
    {
      "cell_type": "markdown",
      "metadata": {
        "id": "bJ5t0VjKvUun",
        "colab_type": "text"
      },
      "source": [
        "Python Data Types\n",
        "--\n",
        "Variables can hold values of different data types. Python is a dynamically typed language hence we need not define the type of the variable while declaring it. The interpreter implicitly binds the value with its type.\n",
        "\n",
        "Python enables us to check the type of the variable used in the program. Python provides us the type() function which returns the type of the variable passed."
      ]
    },
    {
      "cell_type": "markdown",
      "metadata": {
        "id": "0OEzAhjVvUup",
        "colab_type": "raw"
      },
      "source": [
        "# 2**3\n",
        "\n",
        "## Hi\n",
        "\n",
        "__I am learning with Dr. Darshan Ingle__\n",
        "\n",
        "___Learning with lets Upgrade is amazing___"
      ]
    },
    {
      "cell_type": "markdown",
      "metadata": {
        "id": "7Sxs3sDuvUuq",
        "colab_type": "text"
      },
      "source": [
        "# 2**3\n",
        "\n",
        "## Hi\n",
        "\n",
        "__I am learning with Dr. Darshan Ingle__\n",
        "\n",
        "___Learning with lets Upgrade is amazing___"
      ]
    },
    {
      "cell_type": "markdown",
      "metadata": {
        "id": "JSIgNEAUvUur",
        "colab_type": "text"
      },
      "source": [
        "# Anything"
      ]
    },
    {
      "cell_type": "code",
      "metadata": {
        "id": "D5fkPw20vUut",
        "colab_type": "code",
        "colab": {}
      },
      "source": [
        "a = 1\n",
        "b=3\n",
        "c = a + b\n",
        "\n",
        "print(a)\n",
        "print(b)\n",
        "print(c)"
      ],
      "execution_count": null,
      "outputs": []
    },
    {
      "cell_type": "code",
      "metadata": {
        "id": "aJBt9L2XvUu0",
        "colab_type": "code",
        "colab": {}
      },
      "source": [
        "a = 45\n",
        "b = 99\n",
        "c = a + b\n",
        "print(\"First No =\",a)\n",
        "print(\"Second No =\",b)\n",
        "print(\"Addition =\",c)\n",
        "\n",
        "print(\"Addition of a=\",a,\" and b=\",b,\" is c=\",c)"
      ],
      "execution_count": null,
      "outputs": []
    },
    {
      "cell_type": "code",
      "metadata": {
        "id": "YsD6JuwTvUu6",
        "colab_type": "code",
        "colab": {}
      },
      "source": [
        "a=3.5568\n",
        "print(a*2)"
      ],
      "execution_count": null,
      "outputs": []
    },
    {
      "cell_type": "code",
      "metadata": {
        "id": "iS2UMkrLvUvA",
        "colab_type": "code",
        "colab": {}
      },
      "source": [
        "# type your code here1-5\n",
        "\n",
        "\n",
        "# Addition of a= 1 and b= 2 is c= 3\n",
        "\n"
      ],
      "execution_count": null,
      "outputs": []
    },
    {
      "cell_type": "code",
      "metadata": {
        "id": "AAX2R2lsvUvI",
        "colab_type": "code",
        "colab": {}
      },
      "source": [
        "867-8676+78"
      ],
      "execution_count": null,
      "outputs": []
    },
    {
      "cell_type": "markdown",
      "metadata": {
        "id": "dBDvN20AvUvN",
        "colab_type": "text"
      },
      "source": [
        "Standard data types\n",
        "--\n",
        "A variable can hold different types of values. For example, a person's name must be stored as a string whereas its id must be stored as an integer.\n",
        "\n",
        "Python provides various standard data types that define the storage method on each of them. The data types defined in Python are given below.\n",
        "\n",
        "> Numbers\n",
        "\n",
        "> String\n",
        "\n",
        "> List\n",
        "\n",
        "> Tuple\n",
        "\n",
        "> Dictionary"
      ]
    },
    {
      "cell_type": "markdown",
      "metadata": {
        "id": "E_tRK6w-vUvN",
        "colab_type": "text"
      },
      "source": [
        "Numbers\n",
        "--\n",
        "Number stores numeric values. Python creates Number objects when a number is assigned to a variable. For example;\n",
        "\n",
        "a = 3 , b = 5  #a and b are number objects  \n",
        "Python supports 4 types of numeric data.\n",
        "\n",
        "int (signed integers like 10, 2, 29, etc.)\n",
        "\n",
        "long (long integers used for a higher range of values like 908090800L, -0x1929292L, etc.). This is deprecated now.\n",
        "\n",
        "float (float is used to store floating point numbers like 1.9, 9.902, 15.2, etc.)\n",
        "\n",
        "complex (complex numbers like 2.14j, 2.0 + 2.3j, etc.)\n",
        "\n",
        "Python allows us to use a lower-case L to be used with long integers. However, we must always use an upper-case L to avoid confusion.\n",
        "\n",
        "A complex number contains an ordered pair, i.e., x + iy where x and y denote the real and imaginary parts respectively)."
      ]
    },
    {
      "cell_type": "code",
      "metadata": {
        "id": "mD_2XG39vUvP",
        "colab_type": "code",
        "colab": {},
        "outputId": "cf9aa3ac-bf80-4bb7-919f-c0804951b128"
      },
      "source": [
        "# type your code here2.2\n",
        "a = \"Darshan Ingle\"\n",
        "print(a)"
      ],
      "execution_count": null,
      "outputs": [
        {
          "output_type": "stream",
          "text": [
            "Darshan Ingle\n"
          ],
          "name": "stdout"
        }
      ]
    },
    {
      "cell_type": "code",
      "metadata": {
        "id": "oJuEDC5zvUvU",
        "colab_type": "code",
        "colab": {},
        "outputId": "6c662850-7951-4f96-d373-215522c4b7da"
      },
      "source": [
        "# type your code here2.3\n",
        "type(\"Lets Upgrade AI-ML\")"
      ],
      "execution_count": null,
      "outputs": [
        {
          "output_type": "execute_result",
          "data": {
            "text/plain": [
              "str"
            ]
          },
          "metadata": {
            "tags": []
          },
          "execution_count": 3
        }
      ]
    },
    {
      "cell_type": "code",
      "metadata": {
        "id": "5d8zOcPUvUvY",
        "colab_type": "code",
        "colab": {}
      },
      "source": [
        "# type your code here2/4\n"
      ],
      "execution_count": null,
      "outputs": []
    },
    {
      "cell_type": "code",
      "metadata": {
        "id": "Ue_bOGdDvUvb",
        "colab_type": "code",
        "colab": {}
      },
      "source": [
        "# type your code here2-5\n"
      ],
      "execution_count": null,
      "outputs": []
    },
    {
      "cell_type": "code",
      "metadata": {
        "id": "zD_Wt_HfvUvf",
        "colab_type": "code",
        "colab": {},
        "outputId": "b213c20a-89ac-4bd1-fc97-29b7f7026112"
      },
      "source": [
        "# When you type large integers, you might be tempted to use commas.\n",
        "# type your code here\n",
        "# type your code here33\n",
        "a = 1,00,000\n",
        "b = 100000\n",
        "print(a)\n",
        "print(b)\n",
        "print(type(a))\n",
        "print(type(b))"
      ],
      "execution_count": null,
      "outputs": [
        {
          "output_type": "stream",
          "text": [
            "(1, 0, 0)\n",
            "100000\n",
            "<class 'tuple'>\n",
            "<class 'int'>\n"
          ],
          "name": "stdout"
        }
      ]
    },
    {
      "cell_type": "code",
      "metadata": {
        "id": "svpOPbJEvUvk",
        "colab_type": "code",
        "colab": {}
      },
      "source": [
        ""
      ],
      "execution_count": null,
      "outputs": []
    },
    {
      "cell_type": "markdown",
      "metadata": {
        "id": "sVdeFXN3vUvn",
        "colab_type": "raw"
      },
      "source": [
        "Variable names\n",
        "Give meaningful names.\n",
        "Contain both letters and numbers.\n",
        "Underscore can appear in a name.\n",
        "\n",
        "76abc  Syntax error\n",
        "more@=1000   Syntax error\n",
        "\n",
        "Keywords cannot be variable names"
      ]
    },
    {
      "cell_type": "code",
      "metadata": {
        "id": "AUasjuAovUvn",
        "colab_type": "code",
        "colab": {}
      },
      "source": [
        "a@ = 34\n",
        "print(a@)"
      ],
      "execution_count": null,
      "outputs": []
    },
    {
      "cell_type": "markdown",
      "metadata": {
        "id": "lO7eTHvEvUvq",
        "colab_type": "text"
      },
      "source": [
        "String\n",
        "--\n",
        "The string can be defined as the sequence of characters represented in the quotation marks. In python, we can use single or double quotes to define a string.\n",
        "\n",
        "The operator * is known as repetition operator as the operation \"Python \" *2 returns \"Python Python \""
      ]
    },
    {
      "cell_type": "code",
      "metadata": {
        "id": "YNUYtDCavUvr",
        "colab_type": "code",
        "colab": {},
        "outputId": "3c8663e3-db4c-401a-dc4d-d45184af5b54"
      },
      "source": [
        "# type your code here4.9\n",
        "\"Darshan\"*10"
      ],
      "execution_count": null,
      "outputs": [
        {
          "output_type": "execute_result",
          "data": {
            "text/plain": [
              "'DarshanDarshanDarshanDarshanDarshanDarshanDarshanDarshanDarshanDarshan'"
            ]
          },
          "metadata": {
            "tags": []
          },
          "execution_count": 5
        }
      ]
    },
    {
      "cell_type": "code",
      "metadata": {
        "id": "Wre_sOlEvUvv",
        "colab_type": "code",
        "colab": {},
        "outputId": "256bb72b-2449-4186-f321-8bc157d171bc"
      },
      "source": [
        "'abc'+'xyz'"
      ],
      "execution_count": null,
      "outputs": [
        {
          "output_type": "execute_result",
          "data": {
            "text/plain": [
              "'abcxyz'"
            ]
          },
          "metadata": {
            "tags": []
          },
          "execution_count": 7
        }
      ]
    },
    {
      "cell_type": "code",
      "metadata": {
        "id": "Lqj3YmKbvUvy",
        "colab_type": "code",
        "colab": {},
        "outputId": "6f67e939-68c2-469a-db1b-d0c0e7767576"
      },
      "source": [
        "import os\n",
        "os.getcwd()"
      ],
      "execution_count": null,
      "outputs": [
        {
          "output_type": "execute_result",
          "data": {
            "text/plain": [
              "'E:\\\\eBooks\\\\Data_Science_SV\\\\AI\\\\Lets Upgrade\\\\Notebooks'"
            ]
          },
          "metadata": {
            "tags": []
          },
          "execution_count": 8
        }
      ]
    },
    {
      "cell_type": "markdown",
      "metadata": {
        "id": "BxhZteKfvUv2",
        "colab_type": "text"
      },
      "source": [
        "Python Keywords\n",
        "--\n",
        "Python Keywords are special reserved words which convey a special meaning to the compiler/interpreter. Each keyword have a special meaning and a specific operation. These keywords can't be used as variable. \n",
        "\n",
        "Following is the List of Python Keywords.\n",
        "\n",
        "True\n",
        "\n",
        "False\n",
        "\n",
        "None\n",
        "\n",
        "and\n",
        "\n",
        "as\n",
        "\n",
        "asset\n",
        "\n",
        "def\n",
        "\n",
        "class\n",
        "\n",
        "continue\n",
        "\n",
        "break\n",
        "\n",
        "else\n",
        "\n",
        "finally\n",
        "\n",
        "elif\n",
        "\n",
        "del\n",
        "\n",
        "except\n",
        "\n",
        "global\n",
        "\n",
        "for\n",
        "\n",
        "if\n",
        "\n",
        "from\n",
        "\n",
        "import\n",
        "\n",
        "raise\n",
        "\n",
        "try\n",
        "\n",
        "or\n",
        "\n",
        "return\n",
        "\n",
        "pass\n",
        "\n",
        "nonlocal\n",
        "\n",
        "in\n",
        "\n",
        "not\n",
        "\n",
        "is\n",
        "\n",
        "lambda"
      ]
    },
    {
      "cell_type": "markdown",
      "metadata": {
        "id": "nfaO2FMmvUv3",
        "colab_type": "raw"
      },
      "source": [
        "Comments:\n",
        "\n",
        "\n",
        "# for single line comments\n",
        "\n",
        "\"\"\"This is\n",
        "   for multi-line\n",
        "   comments\"\"\""
      ]
    },
    {
      "cell_type": "code",
      "metadata": {
        "id": "9mljuItyvUv4",
        "colab_type": "code",
        "colab": {},
        "outputId": "377105cf-e324-4549-c729-8d1f425695ac"
      },
      "source": [
        "a = 9 # Here I am assigning variable a with value 9\n",
        "b = 8 # Here I am assigning variable b with value 8\n",
        "print(a+b) # Addition operation is being performed here\n",
        "\n",
        "'''Hey, I want\n",
        "to comment multiple\n",
        "lines \n",
        "Can you tell me how??'''"
      ],
      "execution_count": null,
      "outputs": [
        {
          "output_type": "stream",
          "text": [
            "17\n"
          ],
          "name": "stdout"
        },
        {
          "output_type": "execute_result",
          "data": {
            "text/plain": [
              "'Hey, I want\\nto comment multiple\\nlines \\nCan you tell me how??'"
            ]
          },
          "metadata": {
            "tags": []
          },
          "execution_count": 9
        }
      ]
    },
    {
      "cell_type": "markdown",
      "metadata": {
        "id": "kzz8fqg_vUv7",
        "colab_type": "text"
      },
      "source": [
        "Order of Operations:\n",
        "--\n",
        "PEMDAS"
      ]
    },
    {
      "cell_type": "markdown",
      "metadata": {
        "id": "RilJk1tqvUv7",
        "colab_type": "raw"
      },
      "source": [
        "2+3-1\n",
        "=(2+3)-1\n",
        "=4\n",
        "\n",
        "1+1**5-2\n",
        "=1+(1**5)-2\n",
        "=1+1-2\n",
        "=0\n",
        "\n",
        "2*3/2\n",
        "=(2*3)/2\n",
        "3"
      ]
    },
    {
      "cell_type": "code",
      "metadata": {
        "id": "-NzBe-IXvUv8",
        "colab_type": "code",
        "colab": {},
        "outputId": "89687525-e10c-40b5-e04f-b0b5ca7ab2e1"
      },
      "source": [
        "# type your code here4\n",
        "2*3/2"
      ],
      "execution_count": null,
      "outputs": [
        {
          "output_type": "execute_result",
          "data": {
            "text/plain": [
              "3.0"
            ]
          },
          "metadata": {
            "tags": []
          },
          "execution_count": 12
        }
      ]
    },
    {
      "cell_type": "code",
      "metadata": {
        "id": "p2MYUOmOvUwA",
        "colab_type": "code",
        "colab": {},
        "outputId": "47a313c1-2784-42ac-8e3b-488a9d4777a3"
      },
      "source": [
        "(3+3)**2*2-5"
      ],
      "execution_count": null,
      "outputs": [
        {
          "output_type": "execute_result",
          "data": {
            "text/plain": [
              "67"
            ]
          },
          "metadata": {
            "tags": []
          },
          "execution_count": 13
        }
      ]
    },
    {
      "cell_type": "code",
      "metadata": {
        "id": "MRUdWe0zvUwD",
        "colab_type": "code",
        "colab": {}
      },
      "source": [
        ""
      ],
      "execution_count": null,
      "outputs": []
    },
    {
      "cell_type": "code",
      "metadata": {
        "id": "GhQmCCSUvUwF",
        "colab_type": "code",
        "colab": {}
      },
      "source": [
        ""
      ],
      "execution_count": null,
      "outputs": []
    },
    {
      "cell_type": "code",
      "metadata": {
        "id": "BvASfsZJvUwI",
        "colab_type": "code",
        "colab": {},
        "outputId": "fad4e3db-e4a3-451d-8dea-6d57e7be762a"
      },
      "source": [
        "# type your code here63\n",
        "3*\"hvjh\""
      ],
      "execution_count": null,
      "outputs": [
        {
          "output_type": "execute_result",
          "data": {
            "text/plain": [
              "'hvjhhvjhhvjh'"
            ]
          },
          "metadata": {
            "tags": []
          },
          "execution_count": 14
        }
      ]
    },
    {
      "cell_type": "markdown",
      "metadata": {
        "id": "rYu4ObUHvUwM",
        "colab_type": "raw"
      },
      "source": [
        "You cannot perform Mathematical operations on strings.\n",
        "'1'-'2'\n",
        "'eggs'/'hen'\n",
        "'3'*'Tom&Jerry'"
      ]
    },
    {
      "cell_type": "markdown",
      "metadata": {
        "id": "ehbbyd12vUwN",
        "colab_type": "raw"
      },
      "source": [
        "With Strings,\n",
        "+ is concatenation\n",
        "* is repetition"
      ]
    },
    {
      "cell_type": "code",
      "metadata": {
        "id": "v7IcDaCAvUwN",
        "colab_type": "code",
        "colab": {},
        "outputId": "3d811d98-3c90-412f-c69f-c6193ccd97d8"
      },
      "source": [
        "'1'-'2'"
      ],
      "execution_count": null,
      "outputs": [
        {
          "output_type": "error",
          "ename": "TypeError",
          "evalue": "unsupported operand type(s) for -: 'str' and 'str'",
          "traceback": [
            "\u001b[1;31m---------------------------------------------------------------------------\u001b[0m",
            "\u001b[1;31mTypeError\u001b[0m                                 Traceback (most recent call last)",
            "\u001b[1;32m<ipython-input-18-22ef0c15ef6c>\u001b[0m in \u001b[0;36m<module>\u001b[1;34m\u001b[0m\n\u001b[1;32m----> 1\u001b[1;33m \u001b[1;34m'1'\u001b[0m\u001b[1;33m-\u001b[0m\u001b[1;34m'2'\u001b[0m\u001b[1;33m\u001b[0m\u001b[1;33m\u001b[0m\u001b[0m\n\u001b[0m",
            "\u001b[1;31mTypeError\u001b[0m: unsupported operand type(s) for -: 'str' and 'str'"
          ]
        }
      ]
    },
    {
      "cell_type": "code",
      "metadata": {
        "id": "z7069sYFvUwS",
        "colab_type": "code",
        "colab": {},
        "outputId": "2eb69e70-e506-4717-c2a4-e12074746dbf"
      },
      "source": [
        "\"sdsa\"*3"
      ],
      "execution_count": null,
      "outputs": [
        {
          "output_type": "execute_result",
          "data": {
            "text/plain": [
              "'sdsasdsasdsa'"
            ]
          },
          "metadata": {
            "tags": []
          },
          "execution_count": 19
        }
      ]
    },
    {
      "cell_type": "markdown",
      "metadata": {
        "id": "MZD0KRJ6vUwV",
        "colab_type": "text"
      },
      "source": [
        "End of this Module\n",
        "--"
      ]
    }
  ]
}