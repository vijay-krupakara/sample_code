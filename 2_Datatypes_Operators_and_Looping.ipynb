{
  "nbformat": 4,
  "nbformat_minor": 0,
  "metadata": {
    "kernelspec": {
      "display_name": "Python 3",
      "language": "python",
      "name": "python3"
    },
    "language_info": {
      "codemirror_mode": {
        "name": "ipython",
        "version": 3
      },
      "file_extension": ".py",
      "mimetype": "text/x-python",
      "name": "python",
      "nbconvert_exporter": "python",
      "pygments_lexer": "ipython3",
      "version": "3.7.4"
    },
    "toc": {
      "base_numbering": 1,
      "nav_menu": {},
      "number_sections": true,
      "sideBar": true,
      "skip_h1_title": false,
      "title_cell": "Table of Contents",
      "title_sidebar": "Contents",
      "toc_cell": false,
      "toc_position": {},
      "toc_section_display": true,
      "toc_window_display": false
    },
    "colab": {
      "name": "2_Datatypes_Operators_and_Looping.ipynb",
      "provenance": [],
      "include_colab_link": true
    }
  },
  "cells": [
    {
      "cell_type": "markdown",
      "metadata": {
        "id": "view-in-github",
        "colab_type": "text"
      },
      "source": [
        "<a href=\"https://colab.research.google.com/github/vijay-krupakara/sample_code/blob/master/2_Datatypes_Operators_and_Looping.ipynb\" target=\"_parent\"><img src=\"https://colab.research.google.com/assets/colab-badge.svg\" alt=\"Open In Colab\"/></a>"
      ]
    },
    {
      "cell_type": "markdown",
      "metadata": {
        "id": "NbHc-lSSv9iX",
        "colab_type": "text"
      },
      "source": [
        "Datatypes\n",
        "--\n",
        ">int - Plain integer\n",
        "\n",
        ">long - long integer, with 'L' suffix. It is deprecated.\n",
        "\n",
        ">float - Floating point number\n",
        "\n",
        ">complex - Complex no, Real and Imaginary part\n",
        "\n",
        ">boolean - True and False\n",
        "\n",
        ">sequence - string, list, tuple\n",
        "\n",
        ">mapping - Dictionary\n",
        "\n",
        ">set - unordered collection of distinct objects\n",
        "\n",
        ">file - used to make file system objects"
      ]
    },
    {
      "cell_type": "markdown",
      "metadata": {
        "id": "HBvXRLCbv9ia",
        "colab_type": "text"
      },
      "source": [
        "Typecasting\n",
        "--"
      ]
    },
    {
      "cell_type": "code",
      "metadata": {
        "id": "p_DoD4IUv9id",
        "colab_type": "code",
        "colab": {},
        "outputId": "c223f807-f827-4994-fb10-a7f2f932f993"
      },
      "source": [
        "# String/float to int\n",
        "# type your code here2\n",
        "int(3.56789)"
      ],
      "execution_count": null,
      "outputs": [
        {
          "output_type": "execute_result",
          "data": {
            "text/plain": [
              "3"
            ]
          },
          "metadata": {
            "tags": []
          },
          "execution_count": 1
        }
      ]
    },
    {
      "cell_type": "code",
      "metadata": {
        "id": "S1t6RRe0v9it",
        "colab_type": "code",
        "colab": {},
        "outputId": "531075d5-4b95-4457-ecf0-536e0e5f4ad4"
      },
      "source": [
        "type(2020)"
      ],
      "execution_count": null,
      "outputs": [
        {
          "output_type": "execute_result",
          "data": {
            "text/plain": [
              "int"
            ]
          },
          "metadata": {
            "tags": []
          },
          "execution_count": 3
        }
      ]
    },
    {
      "cell_type": "code",
      "metadata": {
        "id": "Wnsqxy6Zv9i0",
        "colab_type": "code",
        "colab": {},
        "outputId": "f577bef0-538f-4af5-c482-fbc5825c288b"
      },
      "source": [
        "type('2020')"
      ],
      "execution_count": null,
      "outputs": [
        {
          "output_type": "execute_result",
          "data": {
            "text/plain": [
              "str"
            ]
          },
          "metadata": {
            "tags": []
          },
          "execution_count": 4
        }
      ]
    },
    {
      "cell_type": "code",
      "metadata": {
        "scrolled": true,
        "id": "meH6s4Acv9i9",
        "colab_type": "code",
        "colab": {},
        "outputId": "233b3ab6-697c-44be-f481-46817ebab0a1"
      },
      "source": [
        "int('2020')"
      ],
      "execution_count": null,
      "outputs": [
        {
          "output_type": "execute_result",
          "data": {
            "text/plain": [
              "2020"
            ]
          },
          "metadata": {
            "tags": []
          },
          "execution_count": 5
        }
      ]
    },
    {
      "cell_type": "code",
      "metadata": {
        "id": "G-I4w4Vdv9jE",
        "colab_type": "code",
        "colab": {},
        "outputId": "60d5dfde-9102-40ae-958d-df0dbc7256fe"
      },
      "source": [
        "float('2020.1245')"
      ],
      "execution_count": null,
      "outputs": [
        {
          "output_type": "execute_result",
          "data": {
            "text/plain": [
              "2020.1245"
            ]
          },
          "metadata": {
            "tags": []
          },
          "execution_count": 9
        }
      ]
    },
    {
      "cell_type": "code",
      "metadata": {
        "id": "cCpvpvEfv9jM",
        "colab_type": "code",
        "colab": {},
        "outputId": "a5fa1451-0e0c-4cc8-ee22-f5a0e912b75a"
      },
      "source": [
        "int('C')"
      ],
      "execution_count": null,
      "outputs": [
        {
          "output_type": "error",
          "ename": "ValueError",
          "evalue": "invalid literal for int() with base 10: 'C'",
          "traceback": [
            "\u001b[1;31m---------------------------------------------------------------------------\u001b[0m",
            "\u001b[1;31mValueError\u001b[0m                                Traceback (most recent call last)",
            "\u001b[1;32m<ipython-input-11-973e9c1c232d>\u001b[0m in \u001b[0;36m<module>\u001b[1;34m\u001b[0m\n\u001b[1;32m----> 1\u001b[1;33m \u001b[0mint\u001b[0m\u001b[1;33m(\u001b[0m\u001b[1;34m'C'\u001b[0m\u001b[1;33m)\u001b[0m\u001b[1;33m\u001b[0m\u001b[1;33m\u001b[0m\u001b[0m\n\u001b[0m",
            "\u001b[1;31mValueError\u001b[0m: invalid literal for int() with base 10: 'C'"
          ]
        }
      ]
    },
    {
      "cell_type": "code",
      "metadata": {
        "id": "zU9saKjVv9jX",
        "colab_type": "code",
        "colab": {},
        "outputId": "211cd6f4-88f3-456d-971a-33283f181d1c"
      },
      "source": [
        "int(float('2020.1245'))"
      ],
      "execution_count": null,
      "outputs": [
        {
          "output_type": "execute_result",
          "data": {
            "text/plain": [
              "2020"
            ]
          },
          "metadata": {
            "tags": []
          },
          "execution_count": 10
        }
      ]
    },
    {
      "cell_type": "code",
      "metadata": {
        "id": "i1v9xnfjv9jh",
        "colab_type": "code",
        "colab": {},
        "outputId": "532fc77e-b07c-41a7-a7a1-8d699fdccf0d"
      },
      "source": [
        "int('Darshan')"
      ],
      "execution_count": null,
      "outputs": [
        {
          "output_type": "error",
          "ename": "ValueError",
          "evalue": "invalid literal for int() with base 10: 'Darshan'",
          "traceback": [
            "\u001b[1;31m---------------------------------------------------------------------------\u001b[0m",
            "\u001b[1;31mValueError\u001b[0m                                Traceback (most recent call last)",
            "\u001b[1;32m<ipython-input-6-7ddd474aaa7b>\u001b[0m in \u001b[0;36m<module>\u001b[1;34m\u001b[0m\n\u001b[1;32m----> 1\u001b[1;33m \u001b[0mint\u001b[0m\u001b[1;33m(\u001b[0m\u001b[1;34m'Darshan'\u001b[0m\u001b[1;33m)\u001b[0m\u001b[1;33m\u001b[0m\u001b[1;33m\u001b[0m\u001b[0m\n\u001b[0m",
            "\u001b[1;31mValueError\u001b[0m: invalid literal for int() with base 10: 'Darshan'"
          ]
        }
      ]
    },
    {
      "cell_type": "code",
      "metadata": {
        "id": "8WGn2bNEv9jn",
        "colab_type": "code",
        "colab": {},
        "outputId": "4ad2bb32-7488-4546-a958-8d13a75d06d6"
      },
      "source": [
        "float(30)"
      ],
      "execution_count": null,
      "outputs": [
        {
          "output_type": "execute_result",
          "data": {
            "text/plain": [
              "30.0"
            ]
          },
          "metadata": {
            "tags": []
          },
          "execution_count": 2
        }
      ]
    },
    {
      "cell_type": "code",
      "metadata": {
        "id": "8vrKsZJyv9ju",
        "colab_type": "code",
        "colab": {}
      },
      "source": [
        "# type your code here2\n"
      ],
      "execution_count": null,
      "outputs": []
    },
    {
      "cell_type": "code",
      "metadata": {
        "id": "LfPluMRrv9j3",
        "colab_type": "code",
        "colab": {}
      },
      "source": [
        "# type your code here1\n"
      ],
      "execution_count": null,
      "outputs": []
    },
    {
      "cell_type": "code",
      "metadata": {
        "id": "4L2UjBK1v9j7",
        "colab_type": "code",
        "colab": {},
        "outputId": "0b27820e-61dd-4e5e-dc00-660ac01a7659"
      },
      "source": [
        "# String/int to float\n",
        "# type your code here3\n",
        "float('12.868')"
      ],
      "execution_count": null,
      "outputs": [
        {
          "output_type": "execute_result",
          "data": {
            "text/plain": [
              "12.868"
            ]
          },
          "metadata": {
            "tags": []
          },
          "execution_count": 12
        }
      ]
    },
    {
      "cell_type": "markdown",
      "metadata": {
        "id": "8Agylm0ev9kC",
        "colab_type": "text"
      },
      "source": [
        "__Homework:__\n",
        "\n",
        "As you can see I have Autocomplete feature in my NB. The NB suggests code for me.\n",
        "Implement the same in your Jupyter NB.\n",
        "\n",
        "__Hint: Use \"Hinterland\", use NBExtensions__"
      ]
    },
    {
      "cell_type": "code",
      "metadata": {
        "id": "kOOEbesWv9kD",
        "colab_type": "code",
        "colab": {}
      },
      "source": [
        "# type your code here2\n"
      ],
      "execution_count": null,
      "outputs": []
    },
    {
      "cell_type": "markdown",
      "metadata": {
        "id": "rpMAyCx0v9kH",
        "colab_type": "raw"
      },
      "source": [
        "# int, float, list, tuple, dictionary to string\n",
        "Note: [] is for list\n",
        "() is for tuple\n",
        "str(3.122)"
      ]
    },
    {
      "cell_type": "code",
      "metadata": {
        "id": "1NGuuOBWv9kI",
        "colab_type": "code",
        "colab": {},
        "outputId": "f6eaa190-c74f-4453-b86c-0ad7f4fb13b1"
      },
      "source": [
        "# type your code here6\n",
        "l= [1,33,43.21,\"Darshan\", 3+4j]\n",
        "print(l)\n",
        "print(type(l))"
      ],
      "execution_count": null,
      "outputs": [
        {
          "output_type": "stream",
          "text": [
            "[1, 33, 43.21, 'Darshan', (3+4j)]\n",
            "<class 'list'>\n"
          ],
          "name": "stdout"
        }
      ]
    },
    {
      "cell_type": "code",
      "metadata": {
        "id": "Enhh-YOrv9kO",
        "colab_type": "code",
        "colab": {},
        "outputId": "03aa163f-52b7-4da8-efaf-7b0ffb7f85a9"
      },
      "source": [
        "l= (1,33,43.21,\"Darshan\", 3+4j)\n",
        "print(l)\n",
        "print(type(l))"
      ],
      "execution_count": null,
      "outputs": [
        {
          "output_type": "stream",
          "text": [
            "(1, 33, 43.21, 'Darshan', (3+4j))\n",
            "<class 'tuple'>\n"
          ],
          "name": "stdout"
        }
      ]
    },
    {
      "cell_type": "code",
      "metadata": {
        "id": "csgqZP_fv9kT",
        "colab_type": "code",
        "colab": {},
        "outputId": "717646b3-bc50-4e30-e1b6-9ec03fcdeb9a"
      },
      "source": [
        "# string, tuple, dict to list\n",
        "# type your code here7\n",
        "str(12.674)"
      ],
      "execution_count": null,
      "outputs": [
        {
          "output_type": "execute_result",
          "data": {
            "text/plain": [
              "'12.674'"
            ]
          },
          "metadata": {
            "tags": []
          },
          "execution_count": 17
        }
      ]
    },
    {
      "cell_type": "code",
      "metadata": {
        "id": "GIRdg3Miv9kZ",
        "colab_type": "code",
        "colab": {},
        "outputId": "d75bc14d-a4a9-44dd-b846-ee89a5a32aea"
      },
      "source": [
        "str(122)"
      ],
      "execution_count": null,
      "outputs": [
        {
          "output_type": "execute_result",
          "data": {
            "text/plain": [
              "'122'"
            ]
          },
          "metadata": {
            "tags": []
          },
          "execution_count": 18
        }
      ]
    },
    {
      "cell_type": "code",
      "metadata": {
        "id": "Cg7R9qbav9ke",
        "colab_type": "code",
        "colab": {},
        "outputId": "8df7ff04-202a-4053-c578-ffab73bf4b0f"
      },
      "source": [
        "str([1,33,43.21,\"Darshan\", 3+4j])"
      ],
      "execution_count": null,
      "outputs": [
        {
          "output_type": "execute_result",
          "data": {
            "text/plain": [
              "\"[1, 33, 43.21, 'Darshan', (3+4j)]\""
            ]
          },
          "metadata": {
            "tags": []
          },
          "execution_count": 19
        }
      ]
    },
    {
      "cell_type": "code",
      "metadata": {
        "id": "ROE84lsJv9kk",
        "colab_type": "code",
        "colab": {},
        "outputId": "157ada8a-df46-4ed4-9900-002bf5553070"
      },
      "source": [
        "str((1,33,43.21,\"Darshan\", 3+4j))"
      ],
      "execution_count": null,
      "outputs": [
        {
          "output_type": "execute_result",
          "data": {
            "text/plain": [
              "\"(1, 33, 43.21, 'Darshan', (3+4j))\""
            ]
          },
          "metadata": {
            "tags": []
          },
          "execution_count": 20
        }
      ]
    },
    {
      "cell_type": "code",
      "metadata": {
        "id": "T9IZ77vQv9kp",
        "colab_type": "code",
        "colab": {},
        "outputId": "c2e06ff0-e9a7-4eb8-f0c5-8f0afcfb0194"
      },
      "source": [
        "# type your code here8\n",
        "list(\"Darshan\")"
      ],
      "execution_count": null,
      "outputs": [
        {
          "output_type": "execute_result",
          "data": {
            "text/plain": [
              "['D', 'a', 'r', 's', 'h', 'a', 'n']"
            ]
          },
          "metadata": {
            "tags": []
          },
          "execution_count": 21
        }
      ]
    },
    {
      "cell_type": "code",
      "metadata": {
        "id": "QNFgBrprv9kw",
        "colab_type": "code",
        "colab": {},
        "outputId": "63a73abd-aba6-4155-ed59-a6a2111fba9e"
      },
      "source": [
        "tuple(\"Darshan\")"
      ],
      "execution_count": null,
      "outputs": [
        {
          "output_type": "execute_result",
          "data": {
            "text/plain": [
              "('D', 'a', 'r', 's', 'h', 'a', 'n')"
            ]
          },
          "metadata": {
            "tags": []
          },
          "execution_count": 22
        }
      ]
    },
    {
      "cell_type": "code",
      "metadata": {
        "id": "bKzkXRDiv9k2",
        "colab_type": "code",
        "colab": {},
        "outputId": "3a535b8f-17c8-48f9-9040-9106b2095ac0"
      },
      "source": [
        "# type your code here1-5\n",
        "# tuple in list\n",
        "list((1,33,43.21,\"Darshan\", 3+4j))"
      ],
      "execution_count": null,
      "outputs": [
        {
          "output_type": "execute_result",
          "data": {
            "text/plain": [
              "[1, 33, 43.21, 'Darshan', (3+4j)]"
            ]
          },
          "metadata": {
            "tags": []
          },
          "execution_count": 23
        }
      ]
    },
    {
      "cell_type": "code",
      "metadata": {
        "id": "vVnQWVsZv9k-",
        "colab_type": "code",
        "colab": {},
        "outputId": "14dc19a8-dc98-4608-cd5b-0b6ad90a5a26"
      },
      "source": [
        "# type your code here11\n",
        "tup = (10,12,15,20)\n",
        "list(tup)"
      ],
      "execution_count": null,
      "outputs": [
        {
          "output_type": "execute_result",
          "data": {
            "text/plain": [
              "[10, 12, 15, 20]"
            ]
          },
          "metadata": {
            "tags": []
          },
          "execution_count": 24
        }
      ]
    },
    {
      "cell_type": "markdown",
      "metadata": {
        "id": "qkK0TnYAv9lF",
        "colab_type": "text"
      },
      "source": [
        "Operators\n",
        "--\n",
        "\n",
        ">Arithmetic: + - * / %\n",
        ">// Floor Division\n",
        ">** exponentiation\n",
        "\n",
        ">Relational: < <= > >= != ==\n",
        "\n",
        ">Logical: and or not\n",
        "\n",
        ">Bitwise: & | ^ ~ << >>\n",
        "\n",
        ">Membership: in, not in\n",
        "\n",
        ">Identity: is,is not"
      ]
    },
    {
      "cell_type": "code",
      "metadata": {
        "id": "6qiYkhf3v9lG",
        "colab_type": "code",
        "colab": {},
        "outputId": "54843d03-4fcc-46ae-d46b-135805acc9de"
      },
      "source": [
        "# type your code here3\n",
        "5%2"
      ],
      "execution_count": null,
      "outputs": [
        {
          "output_type": "execute_result",
          "data": {
            "text/plain": [
              "1"
            ]
          },
          "metadata": {
            "tags": []
          },
          "execution_count": 25
        }
      ]
    },
    {
      "cell_type": "code",
      "metadata": {
        "id": "qxdjPxLNv9lN",
        "colab_type": "code",
        "colab": {},
        "outputId": "a2fb8655-29c3-4de2-9fde-c9e7d42089bb"
      },
      "source": [
        "5//2"
      ],
      "execution_count": null,
      "outputs": [
        {
          "output_type": "execute_result",
          "data": {
            "text/plain": [
              "2"
            ]
          },
          "metadata": {
            "tags": []
          },
          "execution_count": 27
        }
      ]
    },
    {
      "cell_type": "code",
      "metadata": {
        "id": "1N7xF93uv9lS",
        "colab_type": "code",
        "colab": {},
        "outputId": "3bd36579-81d2-4b27-ca56-76773c9e08c7"
      },
      "source": [
        "5/2"
      ],
      "execution_count": null,
      "outputs": [
        {
          "output_type": "execute_result",
          "data": {
            "text/plain": [
              "2.5"
            ]
          },
          "metadata": {
            "tags": []
          },
          "execution_count": 26
        }
      ]
    },
    {
      "cell_type": "code",
      "metadata": {
        "id": "2fq0Rdowv9la",
        "colab_type": "code",
        "colab": {},
        "outputId": "a4628325-ffda-48c5-fbcf-2664a896c228"
      },
      "source": [
        "# type your code here9\n",
        "# 5>2\n",
        "# 2>89\n",
        "# 3>=3\n",
        "# 3==3\n",
        "# 3!=3\n",
        "4!=98"
      ],
      "execution_count": null,
      "outputs": [
        {
          "output_type": "execute_result",
          "data": {
            "text/plain": [
              "True"
            ]
          },
          "metadata": {
            "tags": []
          },
          "execution_count": 37
        }
      ]
    },
    {
      "cell_type": "code",
      "metadata": {
        "id": "yaE63VEbv9lh",
        "colab_type": "code",
        "colab": {},
        "outputId": "d709605e-7b6e-4338-9fcd-09050123de71"
      },
      "source": [
        "# type your code here3\n",
        "\n",
        "3>1 and 5>2"
      ],
      "execution_count": null,
      "outputs": [
        {
          "output_type": "execute_result",
          "data": {
            "text/plain": [
              "True"
            ]
          },
          "metadata": {
            "tags": []
          },
          "execution_count": 39
        }
      ]
    },
    {
      "cell_type": "code",
      "metadata": {
        "id": "xr987pZtv9lo",
        "colab_type": "code",
        "colab": {},
        "outputId": "c05d6dee-ae2c-400b-b175-cd52fab770af"
      },
      "source": [
        "3>1 and 5<2"
      ],
      "execution_count": null,
      "outputs": [
        {
          "output_type": "execute_result",
          "data": {
            "text/plain": [
              "False"
            ]
          },
          "metadata": {
            "tags": []
          },
          "execution_count": 40
        }
      ]
    },
    {
      "cell_type": "code",
      "metadata": {
        "scrolled": true,
        "id": "0XVoDf6kv9lu",
        "colab_type": "code",
        "colab": {},
        "outputId": "785b7e89-f0a5-4b16-ba10-4e12f34595d1"
      },
      "source": [
        "3<1 or 5>2"
      ],
      "execution_count": null,
      "outputs": [
        {
          "output_type": "execute_result",
          "data": {
            "text/plain": [
              "True"
            ]
          },
          "metadata": {
            "tags": []
          },
          "execution_count": 41
        }
      ]
    },
    {
      "cell_type": "code",
      "metadata": {
        "id": "O8QbYCafv9l3",
        "colab_type": "code",
        "colab": {},
        "outputId": "36757521-ed91-457c-cb7d-4c5ef981dd5d"
      },
      "source": [
        "# not(True)\n",
        "not(False)"
      ],
      "execution_count": null,
      "outputs": [
        {
          "output_type": "execute_result",
          "data": {
            "text/plain": [
              "True"
            ]
          },
          "metadata": {
            "tags": []
          },
          "execution_count": 44
        }
      ]
    },
    {
      "cell_type": "code",
      "metadata": {
        "id": "O3yElTIov9l8",
        "colab_type": "code",
        "colab": {},
        "outputId": "060aeda9-8fc0-4d90-9f4b-753eeb252e1b"
      },
      "source": [
        "not(3<1 or 5>2)"
      ],
      "execution_count": null,
      "outputs": [
        {
          "output_type": "execute_result",
          "data": {
            "text/plain": [
              "False"
            ]
          },
          "metadata": {
            "tags": []
          },
          "execution_count": 42
        }
      ]
    },
    {
      "cell_type": "code",
      "metadata": {
        "id": "1YeVmt-Xv9mE",
        "colab_type": "code",
        "colab": {},
        "outputId": "95148426-16df-477c-f285-d0c323b3b4fd"
      },
      "source": [
        "# type your code here19\n",
        "s = 2\n",
        "t = 4\n",
        "print(s&t)"
      ],
      "execution_count": null,
      "outputs": [
        {
          "output_type": "stream",
          "text": [
            "0\n"
          ],
          "name": "stdout"
        }
      ]
    },
    {
      "cell_type": "code",
      "metadata": {
        "id": "ReDa_MIxv9mJ",
        "colab_type": "code",
        "colab": {},
        "outputId": "d94bd4d0-05c2-45f0-c809-2922c31ff147"
      },
      "source": [
        "s = 2\n",
        "t = 4\n",
        "print(s|t)"
      ],
      "execution_count": null,
      "outputs": [
        {
          "output_type": "stream",
          "text": [
            "6\n"
          ],
          "name": "stdout"
        }
      ]
    },
    {
      "cell_type": "code",
      "metadata": {
        "id": "f8LK5PKqv9mT",
        "colab_type": "code",
        "colab": {},
        "outputId": "32fa1afa-220c-4a2b-ddea-a0a888a9054f"
      },
      "source": [
        "x=2\n",
        "print(x<<1)\n",
        "print(x<<1)\n",
        "print(x<<4)"
      ],
      "execution_count": null,
      "outputs": [
        {
          "output_type": "stream",
          "text": [
            "4\n",
            "4\n",
            "32\n"
          ],
          "name": "stdout"
        }
      ]
    },
    {
      "cell_type": "code",
      "metadata": {
        "id": "S8yNR3Wtv9mZ",
        "colab_type": "code",
        "colab": {},
        "outputId": "ffea3ca5-d011-4e68-9603-4ba17225b7c0"
      },
      "source": [
        "# type your code here2.0\n",
        "\n",
        "# Membership: in, not in\n",
        "l = [1,2,3,4,6,5,\"Darshan\"]\n",
        "6 in l"
      ],
      "execution_count": null,
      "outputs": [
        {
          "output_type": "execute_result",
          "data": {
            "text/plain": [
              "True"
            ]
          },
          "metadata": {
            "tags": []
          },
          "execution_count": 50
        }
      ]
    },
    {
      "cell_type": "code",
      "metadata": {
        "id": "uq7r91WBv9mg",
        "colab_type": "code",
        "colab": {},
        "outputId": "128cb0ac-e77d-43c4-d69d-5cae36234f08"
      },
      "source": [
        "100 in l"
      ],
      "execution_count": null,
      "outputs": [
        {
          "output_type": "execute_result",
          "data": {
            "text/plain": [
              "False"
            ]
          },
          "metadata": {
            "tags": []
          },
          "execution_count": 51
        }
      ]
    },
    {
      "cell_type": "code",
      "metadata": {
        "id": "ErW7rDX2v9mm",
        "colab_type": "code",
        "colab": {},
        "outputId": "9000b090-7e57-48b3-cbac-37c2c108891f"
      },
      "source": [
        "# \"darshan\" in l\n",
        "\"Darshan\" in l"
      ],
      "execution_count": null,
      "outputs": [
        {
          "output_type": "execute_result",
          "data": {
            "text/plain": [
              "True"
            ]
          },
          "metadata": {
            "tags": []
          },
          "execution_count": 53
        }
      ]
    },
    {
      "cell_type": "code",
      "metadata": {
        "id": "1V7wUFx6v9ms",
        "colab_type": "code",
        "colab": {},
        "outputId": "8e26ad1f-bb80-487c-b5ec-6e1668bd7f17"
      },
      "source": [
        "577 not in l"
      ],
      "execution_count": null,
      "outputs": [
        {
          "output_type": "execute_result",
          "data": {
            "text/plain": [
              "True"
            ]
          },
          "metadata": {
            "tags": []
          },
          "execution_count": 55
        }
      ]
    },
    {
      "cell_type": "code",
      "metadata": {
        "id": "VNM782F2v9mz",
        "colab_type": "code",
        "colab": {},
        "outputId": "96c72b39-5c5e-47cc-e05d-db1429d27440"
      },
      "source": [
        "\"darshan\" not in l"
      ],
      "execution_count": null,
      "outputs": [
        {
          "output_type": "execute_result",
          "data": {
            "text/plain": [
              "True"
            ]
          },
          "metadata": {
            "tags": []
          },
          "execution_count": 54
        }
      ]
    },
    {
      "cell_type": "code",
      "metadata": {
        "id": "tfg0U1vlv9m-",
        "colab_type": "code",
        "colab": {},
        "outputId": "5f4a9e53-1a81-4dc5-dc47-2c38c549e8dd"
      },
      "source": [
        "\"r\" in \"Darshan\""
      ],
      "execution_count": null,
      "outputs": [
        {
          "output_type": "execute_result",
          "data": {
            "text/plain": [
              "True"
            ]
          },
          "metadata": {
            "tags": []
          },
          "execution_count": 56
        }
      ]
    },
    {
      "cell_type": "code",
      "metadata": {
        "id": "3_sp4muCv9nL",
        "colab_type": "code",
        "colab": {},
        "outputId": "f755134b-2656-41f0-aa21-547ec43daaab"
      },
      "source": [
        "\"x\" in \"Darshan\""
      ],
      "execution_count": null,
      "outputs": [
        {
          "output_type": "execute_result",
          "data": {
            "text/plain": [
              "False"
            ]
          },
          "metadata": {
            "tags": []
          },
          "execution_count": 57
        }
      ]
    },
    {
      "cell_type": "code",
      "metadata": {
        "id": "R63qjXWSv9nU",
        "colab_type": "code",
        "colab": {}
      },
      "source": [
        "# type your code here21\n"
      ],
      "execution_count": null,
      "outputs": []
    },
    {
      "cell_type": "code",
      "metadata": {
        "id": "QdGVyG0hv9nh",
        "colab_type": "code",
        "colab": {}
      },
      "source": [
        "# type your code here22\n"
      ],
      "execution_count": null,
      "outputs": []
    },
    {
      "cell_type": "code",
      "metadata": {
        "id": "YJjYt-VJv9nr",
        "colab_type": "code",
        "colab": {},
        "outputId": "20a0d98c-c65d-4a3a-99a4-11e772313a76"
      },
      "source": [
        "# type your code here2/3\n",
        "x = 4\n",
        "y = 4\n",
        "# x is y\n",
        "\n",
        "x is not y"
      ],
      "execution_count": null,
      "outputs": [
        {
          "output_type": "execute_result",
          "data": {
            "text/plain": [
              "False"
            ]
          },
          "metadata": {
            "tags": []
          },
          "execution_count": 60
        }
      ]
    },
    {
      "cell_type": "code",
      "metadata": {
        "id": "1EwADzEDv9n9",
        "colab_type": "code",
        "colab": {}
      },
      "source": [
        "2.4\n"
      ],
      "execution_count": null,
      "outputs": []
    },
    {
      "cell_type": "code",
      "metadata": {
        "id": "wIJb_6LKv9oS",
        "colab_type": "code",
        "colab": {}
      },
      "source": [
        "# type your code here2.5\n"
      ],
      "execution_count": null,
      "outputs": []
    },
    {
      "cell_type": "code",
      "metadata": {
        "id": "CmcqZYHtv9od",
        "colab_type": "code",
        "colab": {},
        "outputId": "b2ec66f7-e645-4c30-e085-45f53182338a"
      },
      "source": [
        "l = [10,20,30,40,50,60]\n",
        "print(l)\n",
        "print(l[0])\n",
        "print(l[5])\n",
        "# print(l[55]) "
      ],
      "execution_count": null,
      "outputs": [
        {
          "output_type": "stream",
          "text": [
            "[10, 20, 30, 40, 50, 60]\n",
            "10\n",
            "60\n"
          ],
          "name": "stdout"
        }
      ]
    },
    {
      "cell_type": "markdown",
      "metadata": {
        "id": "C0pmKoexv9oq",
        "colab_type": "text"
      },
      "source": [
        "Looping Statements:\n",
        "    --"
      ]
    },
    {
      "cell_type": "code",
      "metadata": {
        "id": "GHteLOjHv9or",
        "colab_type": "code",
        "colab": {},
        "outputId": "f4c42192-b1f2-4b14-fa17-c27b1a57e050"
      },
      "source": [
        "# type your code here4-4\n",
        "l = [10,20,30,40,50,60]\n",
        "for i in l:\n",
        "    print(i)"
      ],
      "execution_count": null,
      "outputs": [
        {
          "output_type": "stream",
          "text": [
            "10\n",
            "20\n",
            "30\n",
            "40\n",
            "50\n",
            "60\n"
          ],
          "name": "stdout"
        }
      ]
    },
    {
      "cell_type": "code",
      "metadata": {
        "id": "iFYhWkYnv9o0",
        "colab_type": "code",
        "colab": {},
        "outputId": "6da051bf-fd66-4a1c-e163-5cf5c56984e5"
      },
      "source": [
        "l = [10,11,12,13,14,15,16,17,18,19,20]\n",
        "for i in l:\n",
        "    if i%2==0:\n",
        "        print(i,\" is even number\")\n",
        "    else:\n",
        "        print(i,\" is odd number\")"
      ],
      "execution_count": null,
      "outputs": [
        {
          "output_type": "stream",
          "text": [
            "10  is even number\n",
            "11  is odd number\n",
            "12  is even number\n",
            "13  is odd number\n",
            "14  is even number\n",
            "15  is odd number\n",
            "16  is even number\n",
            "17  is odd number\n",
            "18  is even number\n",
            "19  is odd number\n",
            "20  is even number\n"
          ],
          "name": "stdout"
        }
      ]
    },
    {
      "cell_type": "code",
      "metadata": {
        "id": "Wq1HIQo8v9o8",
        "colab_type": "code",
        "colab": {},
        "outputId": "be315700-a12e-47d7-8e59-a3dc350575eb"
      },
      "source": [
        "# type your code here4-5\n",
        "name = [\"Darshan\", \"Lets Upgrade\", \"Smart Students\", \"Learners\", 1999, 2020]\n",
        "for dell in name:\n",
        "    print(dell)"
      ],
      "execution_count": null,
      "outputs": [
        {
          "output_type": "stream",
          "text": [
            "Darshan\n",
            "Lets Upgrade\n",
            "Smart Students\n",
            "Learners\n",
            "1999\n",
            "2020\n"
          ],
          "name": "stdout"
        }
      ]
    },
    {
      "cell_type": "code",
      "metadata": {
        "id": "8gCKsAsyv9pR",
        "colab_type": "code",
        "colab": {}
      },
      "source": [
        "# type your code here4-6\n",
        "\n",
        "\n"
      ],
      "execution_count": null,
      "outputs": []
    },
    {
      "cell_type": "markdown",
      "metadata": {
        "id": "yn_1aBG3v9pj",
        "colab_type": "text"
      },
      "source": [
        "range function:\n",
        "--\n",
        "\n",
        ">range(5): It goes from 0 to 4 to generate a sequence of numbers\n",
        "\n",
        ">range(start, stop, stepsize): Default stepsize is 1"
      ]
    },
    {
      "cell_type": "code",
      "metadata": {
        "id": "Lv8czfYlv9pm",
        "colab_type": "code",
        "colab": {}
      },
      "source": [
        "# type your code here1*3\n",
        "\n"
      ],
      "execution_count": null,
      "outputs": []
    },
    {
      "cell_type": "code",
      "metadata": {
        "id": "QVoXtp6Zv9pv",
        "colab_type": "code",
        "colab": {}
      },
      "source": [
        "# Program to display sum of numbers\n",
        "# type your code here1.9\n",
        "\n",
        "\n",
        "\n"
      ],
      "execution_count": null,
      "outputs": []
    },
    {
      "cell_type": "code",
      "metadata": {
        "id": "KF1b13UWv9p4",
        "colab_type": "code",
        "colab": {}
      },
      "source": [
        "# Program to display even numbers in given range\n",
        "# type your code here\n",
        "\n",
        "\n"
      ],
      "execution_count": null,
      "outputs": []
    },
    {
      "cell_type": "code",
      "metadata": {
        "id": "wEn1s6wCv9qC",
        "colab_type": "code",
        "colab": {}
      },
      "source": [
        "# while\n",
        "# type your code here4-7\n",
        "\n",
        "\n",
        "\n"
      ],
      "execution_count": null,
      "outputs": []
    },
    {
      "cell_type": "code",
      "metadata": {
        "id": "7_gZPSn9v9qX",
        "colab_type": "code",
        "colab": {}
      },
      "source": [
        "# type your code here5--/2\n",
        "\n",
        "\n",
        "\n"
      ],
      "execution_count": null,
      "outputs": []
    },
    {
      "cell_type": "code",
      "metadata": {
        "id": "pFSIkegpv9qj",
        "colab_type": "code",
        "colab": {}
      },
      "source": [
        "# type your code here2+0\n",
        "\n",
        "\n",
        "\n"
      ],
      "execution_count": null,
      "outputs": []
    },
    {
      "cell_type": "markdown",
      "metadata": {
        "id": "p3TD7j2rv9qt",
        "colab_type": "text"
      },
      "source": [
        "Conditional execution\n",
        "--"
      ]
    },
    {
      "cell_type": "code",
      "metadata": {
        "id": "Fq3ab-Z9v9qx",
        "colab_type": "code",
        "colab": {},
        "outputId": "628e1ed2-02f1-4d93-c5dd-08d68766dbaf"
      },
      "source": [
        "# type your code here 31\n",
        "x = 3\n",
        "if x==3:\n",
        "    print(\"Hi. Condition met\")\n",
        "    print(\"Lets upgrade\")\n",
        "    print(\"I am happy\")"
      ],
      "execution_count": null,
      "outputs": [
        {
          "output_type": "stream",
          "text": [
            "Hi. Condition met\n",
            "Lets upgrade\n",
            "I am happy\n"
          ],
          "name": "stdout"
        }
      ]
    },
    {
      "cell_type": "code",
      "metadata": {
        "id": "Uwi1LnsPv9rB",
        "colab_type": "code",
        "colab": {},
        "outputId": "f53a5e46-958e-446c-a064-e60ce03a755a"
      },
      "source": [
        "# type your code here 31\n",
        "x = 3\n",
        "if x==3:\n",
        "    print(\"Hi. Condition met\")\n",
        "    print(\"Lets upgrade\")\n",
        "print(\"I am happy\")"
      ],
      "execution_count": null,
      "outputs": [
        {
          "output_type": "stream",
          "text": [
            "Hi. Condition met\n",
            "Lets upgrade\n",
            "I am happy\n"
          ],
          "name": "stdout"
        }
      ]
    },
    {
      "cell_type": "code",
      "metadata": {
        "id": "BUI-fFI6v9rL",
        "colab_type": "code",
        "colab": {}
      },
      "source": [
        "x = 99\n",
        "if x==3:\n",
        "    print(\"Hi. Condition met\")\n",
        "    print(\"Lets upgrade\")\n",
        "    print(\"I am happy\")"
      ],
      "execution_count": null,
      "outputs": []
    },
    {
      "cell_type": "code",
      "metadata": {
        "id": "DKS9uf1pv9ra",
        "colab_type": "code",
        "colab": {},
        "outputId": "c7401be4-d631-43e5-c89b-b6132219a7dd"
      },
      "source": [
        "x = 99\n",
        "if x==3:\n",
        "    print(\"Hi. Condition met\")\n",
        "    print(\"Lets upgrade\")\n",
        "print(\"I am happy\")"
      ],
      "execution_count": null,
      "outputs": [
        {
          "output_type": "stream",
          "text": [
            "I am happy\n"
          ],
          "name": "stdout"
        }
      ]
    },
    {
      "cell_type": "code",
      "metadata": {
        "id": "mItVzAn6v9rk",
        "colab_type": "code",
        "colab": {},
        "outputId": "0488e665-9901-4594-b6f9-4beba0219b66"
      },
      "source": [
        "x = 99\n",
        "if x > 3:\n",
        "    print(\"Hi. Condition met\")\n",
        "    print(\"Lets upgrade\")\n",
        "print(\"I am happy\")"
      ],
      "execution_count": null,
      "outputs": [
        {
          "output_type": "stream",
          "text": [
            "Hi. Condition met\n",
            "Lets upgrade\n",
            "I am happy\n"
          ],
          "name": "stdout"
        }
      ]
    },
    {
      "cell_type": "code",
      "metadata": {
        "id": "GYO5g5gyv9rq",
        "colab_type": "code",
        "colab": {},
        "outputId": "a9111396-1390-46b7-9e29-2e9c526ef183"
      },
      "source": [
        "x = 0\n",
        "if x == 50:\n",
        "    print(\"Party\")\n",
        "elif x>50:\n",
        "    print(\"Movie\")\n",
        "    print(\"Hi\")\n",
        "elif x<50:\n",
        "    print(\"Sit Chup chap at home\")"
      ],
      "execution_count": null,
      "outputs": [
        {
          "output_type": "stream",
          "text": [
            "Sit Chup chap at home\n"
          ],
          "name": "stdout"
        }
      ]
    },
    {
      "cell_type": "code",
      "metadata": {
        "id": "kwGWitv8v9r1",
        "colab_type": "code",
        "colab": {},
        "outputId": "a807ada3-6e8e-4e54-e5ac-2ec5c49f6d32"
      },
      "source": [
        "# WAP to check if the input no is even or odd\n",
        "# type your code here3/3\n",
        "no = 33\n",
        "if no%2==0:\n",
        "    print(no, \" is Even\")\n",
        "else:\n",
        "    print(no, \" is Odd\")\n",
        "\n"
      ],
      "execution_count": null,
      "outputs": [
        {
          "output_type": "stream",
          "text": [
            "33  is Odd\n"
          ],
          "name": "stdout"
        }
      ]
    },
    {
      "cell_type": "code",
      "metadata": {
        "id": "CkLPQAonv9r_",
        "colab_type": "code",
        "colab": {}
      },
      "source": [
        "# type your code here34\n",
        "\n",
        "\n"
      ],
      "execution_count": null,
      "outputs": []
    },
    {
      "cell_type": "code",
      "metadata": {
        "id": "xuUyGSkFv9sF",
        "colab_type": "code",
        "colab": {}
      },
      "source": [
        "# if statement\n",
        "# type your code here3.5\n",
        "\n",
        "\n"
      ],
      "execution_count": null,
      "outputs": []
    },
    {
      "cell_type": "code",
      "metadata": {
        "id": "Wk85E1oXv9sL",
        "colab_type": "code",
        "colab": {},
        "outputId": "3d467963-6cf9-4b7f-d984-aa2eea19d91b"
      },
      "source": [
        "# type your code here3+9\n",
        "a = 10\n",
        "if a==10:\n",
        "    print(\"a is 10\")\n",
        "elif a==15:\n",
        "    print(\"a is 15\")\n",
        "elif a==17:\n",
        "    print(\"a is 17\")\n",
        "elif a==20:\n",
        "    print(\"a is 20\")\n",
        "else:\n",
        "    print(\"a is unknown\")"
      ],
      "execution_count": null,
      "outputs": [
        {
          "output_type": "stream",
          "text": [
            "a is 10\n"
          ],
          "name": "stdout"
        }
      ]
    },
    {
      "cell_type": "code",
      "metadata": {
        "id": "RRQjx2btv9sR",
        "colab_type": "code",
        "colab": {}
      },
      "source": [
        "# Chained Conditionals\n",
        "# type your code here4.0\n",
        "\n",
        "\n"
      ],
      "execution_count": null,
      "outputs": []
    },
    {
      "cell_type": "code",
      "metadata": {
        "id": "Vxidhb2Kv9sf",
        "colab_type": "code",
        "colab": {},
        "outputId": "594f36d8-a307-4a31-953e-f738de837af8"
      },
      "source": [
        "# Nested Conditionals\n",
        "# type your code here4*1\n",
        "x = 35\n",
        "if x > 35:\n",
        "    print(x,\" is greater than 35\")\n",
        "else:\n",
        "    if x<35:\n",
        "        print(x,\" is less than 35\")\n",
        "    else:\n",
        "        print(x,\" is equal than 35\")\n",
        "\n"
      ],
      "execution_count": null,
      "outputs": [
        {
          "output_type": "stream",
          "text": [
            "35  is equal than 35\n"
          ],
          "name": "stdout"
        }
      ]
    },
    {
      "cell_type": "code",
      "metadata": {
        "id": "OFtdIyz6v9sn",
        "colab_type": "code",
        "colab": {}
      },
      "source": [
        "# Nested Conditionals\n",
        "# type your code here42\n",
        "\n",
        "\n",
        "\n",
        "\n"
      ],
      "execution_count": null,
      "outputs": []
    },
    {
      "cell_type": "markdown",
      "metadata": {
        "id": "XsdBNlnzv9sx",
        "colab_type": "raw"
      },
      "source": [
        "If there is an else clause, it has to be at the end, but there doesnt have to be one."
      ]
    },
    {
      "cell_type": "code",
      "metadata": {
        "id": "5F0W7NMhv9sy",
        "colab_type": "code",
        "colab": {}
      },
      "source": [
        "# break\n",
        "# type your code here2+7\n",
        "\n",
        "\n"
      ],
      "execution_count": null,
      "outputs": []
    },
    {
      "cell_type": "code",
      "metadata": {
        "id": "9QK4Ob8lv9s3",
        "colab_type": "code",
        "colab": {}
      },
      "source": [
        "# continue\n",
        "n = (1,2,3,4,5)\n",
        "# type your code here2.-9\n",
        "\n",
        "\n",
        "\n"
      ],
      "execution_count": null,
      "outputs": []
    }
  ]
}